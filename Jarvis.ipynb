{
 "cells": [
  {
   "cell_type": "code",
   "execution_count": 1,
   "id": "f4ff04cf",
   "metadata": {},
   "outputs": [],
   "source": [
    "import pyttsx3\n",
    "import datetime\n",
    "import speech_recognition as sr\n",
    "import wikipedia\n",
    "import webbrowser\n"
   ]
  },
  {
   "cell_type": "code",
   "execution_count": 2,
   "id": "057b2fe9",
   "metadata": {},
   "outputs": [
    {
     "name": "stdout",
     "output_type": "stream",
     "text": [
      "HKEY_LOCAL_MACHINE\\SOFTWARE\\Microsoft\\Speech\\Voices\\Tokens\\TTS_MS_EN-US_ZIRA_11.0\n"
     ]
    }
   ],
   "source": [
    "engine = pyttsx3.init('sapi5')\n",
    "\n",
    "voices= engine.getProperty('voices') #getting details of current voice\n",
    "print(voices[1].id)\n",
    "engine.setProperty('voices', voices[1].id)"
   ]
  },
  {
   "cell_type": "code",
   "execution_count": 3,
   "id": "025c9b1e",
   "metadata": {},
   "outputs": [],
   "source": [
    "def speak(audio):\n",
    "\n",
    "    engine.say(audio) \n",
    "\n",
    "    engine.runAndWait() #Without this command, speech will not be audible to us.\n",
    "\n",
    "def wishme():\n",
    "\n",
    "    hour = int(datetime.datetime.now().hour)\n",
    "    \n",
    "    if hour >= 0 and hour < 12 :\n",
    "        speak(\"Good morning!\")\n",
    "    \n",
    "    elif hour>=12 and hour<18 :\n",
    "        speak(\"Good afternoon\")\n",
    "\n",
    "\n",
    "    else :\n",
    "        speak(\"Good evening\")\n",
    "    \n",
    "    speak(\"Hi I am Jarvis Sir.I am your Personal Assistent. Please tell me how may i help you\")\n",
    "\n",
    "    \n",
    "    \n",
    "def takeCommand():\n",
    "    #It takes microphone input from the user and returns string output\n",
    "\n",
    "    r = sr.Recognizer()\n",
    "    with sr.Microphone() as source:\n",
    "        print(\"Listening...\")\n",
    "        r.pause_threshold = 1\n",
    "        audio = r.listen(source)\n",
    "\n",
    "    try:\n",
    "        print(\"Recognizing...\")    \n",
    "        query = r.recognize_google(audio, language='en-in') #Using google for voice recognition.\n",
    "        print(f\"User said: {query}\\n\")  #User query will be printed.\n",
    "\n",
    "    except Exception as e:\n",
    "        # print(e)    \n",
    "        print(\"Say that again please...\")   #Say that again will be printed in case of improper voice \n",
    "        return \"None\" #None string will be returned\n",
    "    return query"
   ]
  },
  {
   "cell_type": "code",
   "execution_count": null,
   "id": "f66f7bc9",
   "metadata": {},
   "outputs": [
    {
     "name": "stdout",
     "output_type": "stream",
     "text": [
      "Listening...\n",
      "Recognizing...\n"
     ]
    }
   ],
   "source": [
    "\n",
    "if __name__ == \"__main__\":\n",
    "    wishme()\n",
    "    while True:\n",
    "        query = takeCommand().lower() #Converting user query into lower case\n",
    "        \n",
    "         # Logic for executing tasks based on query\n",
    "        if 'wikipedia' in query:  #if wikipedia found in the query then this block will be executed\n",
    "            speak('Searching Wikipedia...')\n",
    "            query = query.replace(\"wikipedia\", \"\")\n",
    "            results = wikipedia.summary(query, sentences=2) \n",
    "            speak(\"According to Wikipedia\")\n",
    "            print(results)\n",
    "            speak(results)\n",
    "            \n",
    "        elif 'open youtube' in query:\n",
    "            webbrowser.open(\"youtube.com\")\n",
    "        \n",
    "        elif 'open google' in query:\n",
    "            webbrowser.open(\"google.com\")\n",
    "         \n",
    "        elif 'the time' in query:\n",
    "            strTime = datetime.datetime.now().strftime(\"%H:%M:%S\")    \n",
    "            speak(f\"Sir, the time is {strTime}\")\n",
    "         \n",
    "        elif 'open vscode' in query:\n",
    "            codePath = \"C:\\\\Program Files (x86)\\\\Microsoft Visual Studio\\\\2019\\\\Community\\\\Common7\\\\IDE\\\\devenv.exe\"\n",
    "            os.startfile(codePath)"
   ]
  },
  {
   "cell_type": "code",
   "execution_count": null,
   "id": "94010f5a",
   "metadata": {},
   "outputs": [],
   "source": []
  },
  {
   "cell_type": "code",
   "execution_count": null,
   "id": "495ed064",
   "metadata": {},
   "outputs": [],
   "source": []
  }
 ],
 "metadata": {
  "kernelspec": {
   "display_name": "Python 3",
   "language": "python",
   "name": "python3"
  },
  "language_info": {
   "codemirror_mode": {
    "name": "ipython",
    "version": 3
   },
   "file_extension": ".py",
   "mimetype": "text/x-python",
   "name": "python",
   "nbconvert_exporter": "python",
   "pygments_lexer": "ipython3",
   "version": "3.8.8"
  }
 },
 "nbformat": 4,
 "nbformat_minor": 5
}
